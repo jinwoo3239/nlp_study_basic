{
  "nbformat": 4,
  "nbformat_minor": 0,
  "metadata": {
    "colab": {
      "provenance": [],
      "collapsed_sections": [],
      "authorship_tag": "ABX9TyMHzqdUrT3M/5q0ltPNlOsV",
      "include_colab_link": true
    },
    "kernelspec": {
      "name": "python3",
      "display_name": "Python 3"
    },
    "language_info": {
      "name": "python"
    },
    "accelerator": "GPU"
  },
  "cells": [
    {
      "cell_type": "markdown",
      "metadata": {
        "id": "view-in-github",
        "colab_type": "text"
      },
      "source": [
        "<a href=\"https://colab.research.google.com/github/jinwoo3239/nlp_study_basic/blob/main/2_Count_based_word_representation_%26_Text_generation.ipynb\" target=\"_parent\"><img src=\"https://colab.research.google.com/assets/colab-badge.svg\" alt=\"Open In Colab\"/></a>"
      ]
    },
    {
      "cell_type": "markdown",
      "source": [
        "# Count based word representation"
      ],
      "metadata": {
        "id": "VzkjiyqfjIdP"
      }
    },
    {
      "cell_type": "markdown",
      "source": [
        "- Bag of words\n",
        "- Document-Term metrix (DTM)\n",
        "- Term frequency-Invese Document Frequency (Tf-IDF)\n",
        "- vector similarity\n",
        "- RNN Text generation"
      ],
      "metadata": {
        "id": "VjMmsgkZjN3m"
      }
    },
    {
      "cell_type": "markdown",
      "source": [
        "## Bag of words"
      ],
      "metadata": {
        "id": "wWTnEf6Ojiyw"
      }
    },
    {
      "cell_type": "code",
      "source": [
        "import nltk\n",
        "nltk.download('popular')\n",
        "\n",
        "import numpy as np\n",
        "import pandas as pd\n",
        "\n",
        "from sklearn.feature_extraction.text import CountVectorizer\n",
        "\n",
        "import tensorflow as tf\n",
        "from tensorflow.keras.preprocessing.text import Tokenizer\n",
        "from tensorflow.keras.preprocessing.sequence import pad_sequences\n",
        "\n",
        "from tensorflow.keras import layers\n",
        "from tensorflow.keras.utils import to_categorical"
      ],
      "metadata": {
        "id": "iSdF98KDjpGz"
      },
      "execution_count": null,
      "outputs": []
    },
    {
      "cell_type": "code",
      "source": [
        "corpus = ['you know I want your love. because I love you.']\n",
        "\n",
        "vector = CountVectorizer()\n",
        "\n",
        "\n",
        "# word frequency from corpus\n",
        "print('bag of words vector :', vector.fit_transform(corpus).toarray())\n",
        "\n",
        "# word index\n",
        "print('vocabulary :', vector.vocabulary_)"
      ],
      "metadata": {
        "colab": {
          "base_uri": "https://localhost:8080/"
        },
        "id": "gZaaKKtrjxCG",
        "outputId": "26d5aa8e-b0ba-449b-ab12-51cdc7e5f3e3"
      },
      "execution_count": 2,
      "outputs": [
        {
          "output_type": "stream",
          "name": "stdout",
          "text": [
            "bag of words vector : [[1 1 2 1 2 1]]\n",
            "vocabulary : {'you': 4, 'know': 1, 'want': 3, 'your': 5, 'love': 2, 'because': 0}\n"
          ]
        }
      ]
    },
    {
      "cell_type": "code",
      "source": [
        "stop_words = nltk.corpus.stopwords.words('english')\n",
        "\n",
        "vector = CountVectorizer(stop_words=stop_words)\n",
        "\n",
        "bag_of_words = vector.fit_transform(corpus).toarray()\n",
        "vocab = vector.vocabulary_\n",
        "\n",
        "print(bag_of_words)\n",
        "print(vocab)"
      ],
      "metadata": {
        "colab": {
          "base_uri": "https://localhost:8080/"
        },
        "id": "TgKV92nulOi9",
        "outputId": "ee30acc2-ccf7-4728-e557-7564d4bee4ba"
      },
      "execution_count": 3,
      "outputs": [
        {
          "output_type": "stream",
          "name": "stdout",
          "text": [
            "[[1 2 1]]\n",
            "{'know': 0, 'want': 2, 'love': 1}\n"
          ]
        }
      ]
    },
    {
      "cell_type": "code",
      "source": [
        "from sklearn.feature_extraction.text import CountVectorizer\n",
        "\n",
        "corpus = [\n",
        "    'you know I want your love',\n",
        "    'I like you',\n",
        "    'what should I do ',    \n",
        "]\n",
        "\n",
        "# stop_words = nltk.corpus.stopwords.words('english')\n",
        "vector = CountVectorizer()\n",
        "\n",
        "dtm = vector.fit_transform(corpus).toarray()\n",
        "dtm"
      ],
      "metadata": {
        "colab": {
          "base_uri": "https://localhost:8080/"
        },
        "id": "yEMfWMC3mJP7",
        "outputId": "122043d7-f207-4fcc-d880-b35819109dac"
      },
      "execution_count": 4,
      "outputs": [
        {
          "output_type": "execute_result",
          "data": {
            "text/plain": [
              "array([[0, 1, 0, 1, 0, 1, 0, 1, 1],\n",
              "       [0, 0, 1, 0, 0, 0, 0, 1, 0],\n",
              "       [1, 0, 0, 0, 1, 0, 1, 0, 0]])"
            ]
          },
          "metadata": {},
          "execution_count": 4
        }
      ]
    },
    {
      "cell_type": "markdown",
      "source": [
        "## Term frequency-Inverse Document Frequency (Tf-IDF)"
      ],
      "metadata": {
        "id": "YvSIcQQonexH"
      }
    },
    {
      "cell_type": "code",
      "source": [
        "from sklearn.feature_extraction.text import TfidfVectorizer\n",
        "\n",
        "vector = TfidfVectorizer()\n",
        "tfidf = vector.fit_transform(corpus).toarray()\n",
        "tfidf"
      ],
      "metadata": {
        "colab": {
          "base_uri": "https://localhost:8080/"
        },
        "id": "t_hwOsMantk6",
        "outputId": "30977beb-9382-4ae4-bd4a-77a9bd2a99ae"
      },
      "execution_count": 5,
      "outputs": [
        {
          "output_type": "execute_result",
          "data": {
            "text/plain": [
              "array([[0.        , 0.46735098, 0.        , 0.46735098, 0.        ,\n",
              "        0.46735098, 0.        , 0.35543247, 0.46735098],\n",
              "       [0.        , 0.        , 0.79596054, 0.        , 0.        ,\n",
              "        0.        , 0.        , 0.60534851, 0.        ],\n",
              "       [0.57735027, 0.        , 0.        , 0.        , 0.57735027,\n",
              "        0.        , 0.57735027, 0.        , 0.        ]])"
            ]
          },
          "metadata": {},
          "execution_count": 5
        }
      ]
    },
    {
      "cell_type": "markdown",
      "source": [
        "## Vector similarity\n",
        "- `sklearn.metrics.pairwise.cosine_smilarity`\n",
        "- https://www.kaggle.com/rounakbanik/the-movies-dataset"
      ],
      "metadata": {
        "id": "GvywyyZen8BB"
      }
    },
    {
      "cell_type": "code",
      "source": [
        "import numpy as np\n",
        "import pandas as pd\n",
        "\n",
        "from sklearn.feature_extraction.text import TfidfVectorizer\n",
        "from sklearn.metrics.pairwise import cosine_similarity\n",
        "\n",
        "data = pd.read_csv('movies_metadata.csv', low_memory=False)\n",
        "data = data.head(10000)\n",
        "data['overview'] = data['overview'].fillna('')\n",
        "data = data[['overview', 'title']]"
      ],
      "metadata": {
        "id": "uWAddUVjoOVp"
      },
      "execution_count": 1,
      "outputs": []
    },
    {
      "cell_type": "code",
      "source": [
        "data.head()"
      ],
      "metadata": {
        "colab": {
          "base_uri": "https://localhost:8080/",
          "height": 206
        },
        "id": "TqxLwefIsS4j",
        "outputId": "92cd53a2-eed6-4bd8-95a7-fb4d39818386"
      },
      "execution_count": 2,
      "outputs": [
        {
          "output_type": "execute_result",
          "data": {
            "text/plain": [
              "                                            overview  \\\n",
              "0  Led by Woody, Andy's toys live happily in his ...   \n",
              "1  When siblings Judy and Peter discover an encha...   \n",
              "2  A family wedding reignites the ancient feud be...   \n",
              "3  Cheated on, mistreated and stepped on, the wom...   \n",
              "4  Just when George Banks has recovered from his ...   \n",
              "\n",
              "                         title  \n",
              "0                    Toy Story  \n",
              "1                      Jumanji  \n",
              "2             Grumpier Old Men  \n",
              "3            Waiting to Exhale  \n",
              "4  Father of the Bride Part II  "
            ],
            "text/html": [
              "\n",
              "  <div id=\"df-a4c0b6d8-a7fd-4ebb-b2f5-fad96c538b68\">\n",
              "    <div class=\"colab-df-container\">\n",
              "      <div>\n",
              "<style scoped>\n",
              "    .dataframe tbody tr th:only-of-type {\n",
              "        vertical-align: middle;\n",
              "    }\n",
              "\n",
              "    .dataframe tbody tr th {\n",
              "        vertical-align: top;\n",
              "    }\n",
              "\n",
              "    .dataframe thead th {\n",
              "        text-align: right;\n",
              "    }\n",
              "</style>\n",
              "<table border=\"1\" class=\"dataframe\">\n",
              "  <thead>\n",
              "    <tr style=\"text-align: right;\">\n",
              "      <th></th>\n",
              "      <th>overview</th>\n",
              "      <th>title</th>\n",
              "    </tr>\n",
              "  </thead>\n",
              "  <tbody>\n",
              "    <tr>\n",
              "      <th>0</th>\n",
              "      <td>Led by Woody, Andy's toys live happily in his ...</td>\n",
              "      <td>Toy Story</td>\n",
              "    </tr>\n",
              "    <tr>\n",
              "      <th>1</th>\n",
              "      <td>When siblings Judy and Peter discover an encha...</td>\n",
              "      <td>Jumanji</td>\n",
              "    </tr>\n",
              "    <tr>\n",
              "      <th>2</th>\n",
              "      <td>A family wedding reignites the ancient feud be...</td>\n",
              "      <td>Grumpier Old Men</td>\n",
              "    </tr>\n",
              "    <tr>\n",
              "      <th>3</th>\n",
              "      <td>Cheated on, mistreated and stepped on, the wom...</td>\n",
              "      <td>Waiting to Exhale</td>\n",
              "    </tr>\n",
              "    <tr>\n",
              "      <th>4</th>\n",
              "      <td>Just when George Banks has recovered from his ...</td>\n",
              "      <td>Father of the Bride Part II</td>\n",
              "    </tr>\n",
              "  </tbody>\n",
              "</table>\n",
              "</div>\n",
              "      <button class=\"colab-df-convert\" onclick=\"convertToInteractive('df-a4c0b6d8-a7fd-4ebb-b2f5-fad96c538b68')\"\n",
              "              title=\"Convert this dataframe to an interactive table.\"\n",
              "              style=\"display:none;\">\n",
              "        \n",
              "  <svg xmlns=\"http://www.w3.org/2000/svg\" height=\"24px\"viewBox=\"0 0 24 24\"\n",
              "       width=\"24px\">\n",
              "    <path d=\"M0 0h24v24H0V0z\" fill=\"none\"/>\n",
              "    <path d=\"M18.56 5.44l.94 2.06.94-2.06 2.06-.94-2.06-.94-.94-2.06-.94 2.06-2.06.94zm-11 1L8.5 8.5l.94-2.06 2.06-.94-2.06-.94L8.5 2.5l-.94 2.06-2.06.94zm10 10l.94 2.06.94-2.06 2.06-.94-2.06-.94-.94-2.06-.94 2.06-2.06.94z\"/><path d=\"M17.41 7.96l-1.37-1.37c-.4-.4-.92-.59-1.43-.59-.52 0-1.04.2-1.43.59L10.3 9.45l-7.72 7.72c-.78.78-.78 2.05 0 2.83L4 21.41c.39.39.9.59 1.41.59.51 0 1.02-.2 1.41-.59l7.78-7.78 2.81-2.81c.8-.78.8-2.07 0-2.86zM5.41 20L4 18.59l7.72-7.72 1.47 1.35L5.41 20z\"/>\n",
              "  </svg>\n",
              "      </button>\n",
              "      \n",
              "  <style>\n",
              "    .colab-df-container {\n",
              "      display:flex;\n",
              "      flex-wrap:wrap;\n",
              "      gap: 12px;\n",
              "    }\n",
              "\n",
              "    .colab-df-convert {\n",
              "      background-color: #E8F0FE;\n",
              "      border: none;\n",
              "      border-radius: 50%;\n",
              "      cursor: pointer;\n",
              "      display: none;\n",
              "      fill: #1967D2;\n",
              "      height: 32px;\n",
              "      padding: 0 0 0 0;\n",
              "      width: 32px;\n",
              "    }\n",
              "\n",
              "    .colab-df-convert:hover {\n",
              "      background-color: #E2EBFA;\n",
              "      box-shadow: 0px 1px 2px rgba(60, 64, 67, 0.3), 0px 1px 3px 1px rgba(60, 64, 67, 0.15);\n",
              "      fill: #174EA6;\n",
              "    }\n",
              "\n",
              "    [theme=dark] .colab-df-convert {\n",
              "      background-color: #3B4455;\n",
              "      fill: #D2E3FC;\n",
              "    }\n",
              "\n",
              "    [theme=dark] .colab-df-convert:hover {\n",
              "      background-color: #434B5C;\n",
              "      box-shadow: 0px 1px 3px 1px rgba(0, 0, 0, 0.15);\n",
              "      filter: drop-shadow(0px 1px 2px rgba(0, 0, 0, 0.3));\n",
              "      fill: #FFFFFF;\n",
              "    }\n",
              "  </style>\n",
              "\n",
              "      <script>\n",
              "        const buttonEl =\n",
              "          document.querySelector('#df-a4c0b6d8-a7fd-4ebb-b2f5-fad96c538b68 button.colab-df-convert');\n",
              "        buttonEl.style.display =\n",
              "          google.colab.kernel.accessAllowed ? 'block' : 'none';\n",
              "\n",
              "        async function convertToInteractive(key) {\n",
              "          const element = document.querySelector('#df-a4c0b6d8-a7fd-4ebb-b2f5-fad96c538b68');\n",
              "          const dataTable =\n",
              "            await google.colab.kernel.invokeFunction('convertToInteractive',\n",
              "                                                     [key], {});\n",
              "          if (!dataTable) return;\n",
              "\n",
              "          const docLinkHtml = 'Like what you see? Visit the ' +\n",
              "            '<a target=\"_blank\" href=https://colab.research.google.com/notebooks/data_table.ipynb>data table notebook</a>'\n",
              "            + ' to learn more about interactive tables.';\n",
              "          element.innerHTML = '';\n",
              "          dataTable['output_type'] = 'display_data';\n",
              "          await google.colab.output.renderOutput(dataTable, element);\n",
              "          const docLink = document.createElement('div');\n",
              "          docLink.innerHTML = docLinkHtml;\n",
              "          element.appendChild(docLink);\n",
              "        }\n",
              "      </script>\n",
              "    </div>\n",
              "  </div>\n",
              "  "
            ]
          },
          "metadata": {},
          "execution_count": 2
        }
      ]
    },
    {
      "cell_type": "code",
      "source": [
        "vector = TfidfVectorizer(stop_words='english')\n",
        "\n",
        "tfidf = vector.fit_transform(data.overview).toarray()\n",
        "tfidf.shape"
      ],
      "metadata": {
        "colab": {
          "base_uri": "https://localhost:8080/"
        },
        "id": "n05yOCKho1aW",
        "outputId": "323d9eb9-174f-40ec-d8bf-c107c736d0bd"
      },
      "execution_count": 3,
      "outputs": [
        {
          "output_type": "execute_result",
          "data": {
            "text/plain": [
              "(10000, 32350)"
            ]
          },
          "metadata": {},
          "execution_count": 3
        }
      ]
    },
    {
      "cell_type": "code",
      "source": [
        "cosine_sim = cosine_similarity(tfidf, tfidf)\n",
        "cosine_sim.shape"
      ],
      "metadata": {
        "colab": {
          "base_uri": "https://localhost:8080/"
        },
        "id": "EQRxvVZJqdKu",
        "outputId": "ca9f6a1c-abce-4aec-ddee-7e1c5cb0a967"
      },
      "execution_count": 4,
      "outputs": [
        {
          "output_type": "execute_result",
          "data": {
            "text/plain": [
              "(10000, 10000)"
            ]
          },
          "metadata": {},
          "execution_count": 4
        }
      ]
    },
    {
      "cell_type": "code",
      "source": [
        "title_to_index = dict(zip(data['title'], data.index))\n",
        "\n",
        "# 영화 제목 Father of the Bride Part II의 인덱스를 리턴\n",
        "idx = title_to_index['Father of the Bride Part II']\n",
        "print(idx)\n",
        "\n",
        "def get_recommendations(title, cosine_sim=cosine_sim):\n",
        "    # 선택한 영화의 타이틀로부터 해당 영화의 인덱스를 받아온다.\n",
        "    idx = title_to_index[title]\n",
        "\n",
        "    # 해당 영화와 모든 영화와의 유사도를 가져온다.\n",
        "    sim_scores = list(enumerate(cosine_sim[idx]))\n",
        "\n",
        "    # 유사도에 따라 영화들을 정렬한다.\n",
        "    sim_scores = sorted(sim_scores, key=lambda x: x[1], reverse=True)\n",
        "\n",
        "    # 가장 유사한 10개의 영화를 받아온다.\n",
        "    sim_scores = sim_scores[1:11]\n",
        "\n",
        "    # 가장 유사한 10개의 영화의 인덱스를 얻는다.\n",
        "    movie_indices = [idx[0] for idx in sim_scores]\n",
        "\n",
        "    # 가장 유사한 10개의 영화의 제목을 리턴한다.\n",
        "    return data['title'].iloc[movie_indices]\n",
        "\n",
        "get_recommendations('Father of the Bride Part II')"
      ],
      "metadata": {
        "id": "p6rjA59EtJSh"
      },
      "execution_count": null,
      "outputs": []
    },
    {
      "cell_type": "code",
      "source": [
        "title_to_index = dict(zip(data['title'], data.index))\n",
        "\n",
        "def get_recommedation(title):\n",
        "\n",
        "    title_index = title_to_index[title]\n",
        "    similarity_score = cosine_sim[title_index]\n",
        "    similarity_score = list(enumerate(similarity_score))\n",
        "    sorted_score = sorted(similarity_score, key=lambda x: x[1], reverse=True)\n",
        "    sorted_score = sorted_score[1:6]\n",
        "    movie_index = [index for index, socore in sorted_score]\n",
        "    movies = data['title'].loc[movie_index]\n",
        "    score = [socore for index, socore in sorted_score]\n",
        "    return movies"
      ],
      "metadata": {
        "id": "z1uiF09itwYq"
      },
      "execution_count": 38,
      "outputs": []
    },
    {
      "cell_type": "code",
      "source": [
        "get_recommedation('Toy Story')"
      ],
      "metadata": {
        "colab": {
          "base_uri": "https://localhost:8080/"
        },
        "id": "2HC1_31YxbD4",
        "outputId": "8b40dca5-1cc9-49ad-b61e-f4128072c7e8"
      },
      "execution_count": 39,
      "outputs": [
        {
          "output_type": "execute_result",
          "data": {
            "text/plain": [
              "2997              Toy Story 2\n",
              "8327                The Champ\n",
              "1071    Rebel Without a Cause\n",
              "3057          Man on the Moon\n",
              "1932                Condorman\n",
              "Name: title, dtype: object"
            ]
          },
          "metadata": {},
          "execution_count": 39
        }
      ]
    },
    {
      "cell_type": "markdown",
      "source": [
        "## RNN text generation"
      ],
      "metadata": {
        "id": "UGwRm1oxv_rG"
      }
    },
    {
      "cell_type": "code",
      "source": [
        "import tensorflow as tf\n",
        "\n",
        "from tensorflow.keras.preprocessing.text import Tokenizer\n",
        "from tensorflow.keras.preprocessing.sequence import pad_sequences"
      ],
      "metadata": {
        "id": "xGkl-O5j05_h"
      },
      "execution_count": 40,
      "outputs": []
    },
    {
      "cell_type": "code",
      "source": [
        "text = \"\"\"경마장에 있는 말이 뛰고 있다\n",
        "그의 말이 법이다\n",
        "가는 말이 고와야 오는 말이 곱다\"\"\"\n",
        "\n",
        "text"
      ],
      "metadata": {
        "colab": {
          "base_uri": "https://localhost:8080/",
          "height": 36
        },
        "id": "Ql5yTHZl1FXE",
        "outputId": "c708d105-5af9-44ad-b4f4-0b1888489f20"
      },
      "execution_count": 49,
      "outputs": [
        {
          "output_type": "execute_result",
          "data": {
            "text/plain": [
              "'경마장에 있는 말이 뛰고 있다\\n그의 말이 법이다\\n가는 말이 고와야 오는 말이 곱다'"
            ],
            "application/vnd.google.colaboratory.intrinsic+json": {
              "type": "string"
            }
          },
          "metadata": {},
          "execution_count": 49
        }
      ]
    },
    {
      "cell_type": "code",
      "source": [
        "tokenizer = Tokenizer()\n",
        "tokenizer.fit_on_texts([text])\n",
        "vocab_size = len(tokenizer.word_index) + 1"
      ],
      "metadata": {
        "id": "WWK5Y2ou1MfT"
      },
      "execution_count": 50,
      "outputs": []
    },
    {
      "cell_type": "code",
      "source": [
        "tokenizer.word_index"
      ],
      "metadata": {
        "colab": {
          "base_uri": "https://localhost:8080/"
        },
        "id": "tNQ1AQ4I1dYk",
        "outputId": "db507d04-dedc-42bf-d586-f10fa68d0c34"
      },
      "execution_count": 51,
      "outputs": [
        {
          "output_type": "execute_result",
          "data": {
            "text/plain": [
              "{'말이': 1,\n",
              " '경마장에': 2,\n",
              " '있는': 3,\n",
              " '뛰고': 4,\n",
              " '있다': 5,\n",
              " '그의': 6,\n",
              " '법이다': 7,\n",
              " '가는': 8,\n",
              " '고와야': 9,\n",
              " '오는': 10,\n",
              " '곱다': 11}"
            ]
          },
          "metadata": {},
          "execution_count": 51
        }
      ]
    },
    {
      "cell_type": "code",
      "source": [
        "sequences = []\n",
        "\n",
        "for line in text.split('\\n'):\n",
        "    encoded = tokenizer.texts_to_sequences([line])[0]\n",
        "    for i in range(1, len(encoded)):\n",
        "        sequence = encoded[:i+1]\n",
        "        sequences.append(sequence)\n",
        "\n",
        "sequences"
      ],
      "metadata": {
        "colab": {
          "base_uri": "https://localhost:8080/"
        },
        "id": "SKEVW9q91l5Q",
        "outputId": "7bbd775e-4129-4b6b-b77a-92653ec0dc70"
      },
      "execution_count": 70,
      "outputs": [
        {
          "output_type": "execute_result",
          "data": {
            "text/plain": [
              "[[2, 3],\n",
              " [2, 3, 1],\n",
              " [2, 3, 1, 4],\n",
              " [2, 3, 1, 4, 5],\n",
              " [6, 1],\n",
              " [6, 1, 7],\n",
              " [8, 1],\n",
              " [8, 1, 9],\n",
              " [8, 1, 9, 10],\n",
              " [8, 1, 9, 10, 1],\n",
              " [8, 1, 9, 10, 1, 11]]"
            ]
          },
          "metadata": {},
          "execution_count": 70
        }
      ]
    },
    {
      "cell_type": "code",
      "source": [
        "max_len = max([len(l) for l in sequences])\n",
        "\n",
        "sequences = pad_sequences(sequences, maxlen=max_len, padding='pre')\n",
        "sequences"
      ],
      "metadata": {
        "colab": {
          "base_uri": "https://localhost:8080/"
        },
        "id": "v5DIsN7g2I64",
        "outputId": "596de25b-f3e1-4996-9d4d-0aed3ed5e194"
      },
      "execution_count": 71,
      "outputs": [
        {
          "output_type": "execute_result",
          "data": {
            "text/plain": [
              "array([[ 0,  0,  0,  0,  2,  3],\n",
              "       [ 0,  0,  0,  2,  3,  1],\n",
              "       [ 0,  0,  2,  3,  1,  4],\n",
              "       [ 0,  2,  3,  1,  4,  5],\n",
              "       [ 0,  0,  0,  0,  6,  1],\n",
              "       [ 0,  0,  0,  6,  1,  7],\n",
              "       [ 0,  0,  0,  0,  8,  1],\n",
              "       [ 0,  0,  0,  8,  1,  9],\n",
              "       [ 0,  0,  8,  1,  9, 10],\n",
              "       [ 0,  8,  1,  9, 10,  1],\n",
              "       [ 8,  1,  9, 10,  1, 11]], dtype=int32)"
            ]
          },
          "metadata": {},
          "execution_count": 71
        }
      ]
    },
    {
      "cell_type": "code",
      "source": [
        "sequences = np.array(sequences)\n",
        "X = sequences[:,:-1]\n",
        "y = sequences[:,-1]"
      ],
      "metadata": {
        "id": "XsgAbV1A2sMT"
      },
      "execution_count": 72,
      "outputs": []
    },
    {
      "cell_type": "code",
      "source": [
        "y = tf.keras.utils.to_categorical(y)"
      ],
      "metadata": {
        "colab": {
          "base_uri": "https://localhost:8080/"
        },
        "id": "NdDOXU-g4CFp",
        "outputId": "c33f9435-c0ef-4e61-f9e2-1cea92b18856"
      },
      "execution_count": 73,
      "outputs": [
        {
          "output_type": "execute_result",
          "data": {
            "text/plain": [
              "array([[0., 0., 0., 1., 0., 0., 0., 0., 0., 0., 0., 0.],\n",
              "       [0., 1., 0., 0., 0., 0., 0., 0., 0., 0., 0., 0.],\n",
              "       [0., 0., 0., 0., 1., 0., 0., 0., 0., 0., 0., 0.],\n",
              "       [0., 0., 0., 0., 0., 1., 0., 0., 0., 0., 0., 0.],\n",
              "       [0., 1., 0., 0., 0., 0., 0., 0., 0., 0., 0., 0.],\n",
              "       [0., 0., 0., 0., 0., 0., 0., 1., 0., 0., 0., 0.],\n",
              "       [0., 1., 0., 0., 0., 0., 0., 0., 0., 0., 0., 0.],\n",
              "       [0., 0., 0., 0., 0., 0., 0., 0., 0., 1., 0., 0.],\n",
              "       [0., 0., 0., 0., 0., 0., 0., 0., 0., 0., 1., 0.],\n",
              "       [0., 1., 0., 0., 0., 0., 0., 0., 0., 0., 0., 0.],\n",
              "       [0., 0., 0., 0., 0., 0., 0., 0., 0., 0., 0., 1.]], dtype=float32)"
            ]
          },
          "metadata": {},
          "execution_count": 73
        }
      ]
    },
    {
      "cell_type": "code",
      "source": [
        "vocab_size = len(tokenizer.word_index) + 1\n",
        "embedding_dim = 8\n",
        "hidden_dim = 32\n",
        "\n",
        "class mymodel(tf.keras.Model):\n",
        "\n",
        "    def __init__(self, ):\n",
        "        super(mymodel, self).__init__()\n",
        "\n",
        "        self.embedding = layers.Embedding(vocab_size, embedding_dim)\n",
        "        self.rnn = layers.SimpleRNN(units=hidden_dim, )\n",
        "        self.dense = layers.Dense(vocab_size, activation='softmax')\n",
        "\n",
        "    def call(self, x, training=False):\n",
        "        x = self.embedding(x)\n",
        "        x = self.rnn(x)\n",
        "        x = self.dense(x)\n",
        "        return x\n",
        "\n",
        "model = mymodel()"
      ],
      "metadata": {
        "id": "qDjxCSis4MBt"
      },
      "execution_count": 75,
      "outputs": []
    },
    {
      "cell_type": "code",
      "source": [
        "model.build(X.shape)\n",
        "model.summary()"
      ],
      "metadata": {
        "colab": {
          "base_uri": "https://localhost:8080/"
        },
        "id": "cMuI9ncB5Q5E",
        "outputId": "56db9c41-2dc9-4657-b5dc-877295fe8f59"
      },
      "execution_count": 77,
      "outputs": [
        {
          "output_type": "stream",
          "name": "stdout",
          "text": [
            "Model: \"mymodel\"\n",
            "_________________________________________________________________\n",
            " Layer (type)                Output Shape              Param #   \n",
            "=================================================================\n",
            " embedding (Embedding)       multiple                  96        \n",
            "                                                                 \n",
            " simple_rnn (SimpleRNN)      multiple                  1312      \n",
            "                                                                 \n",
            " dense (Dense)               multiple                  396       \n",
            "                                                                 \n",
            "=================================================================\n",
            "Total params: 1,804\n",
            "Trainable params: 1,804\n",
            "Non-trainable params: 0\n",
            "_________________________________________________________________\n"
          ]
        }
      ]
    },
    {
      "cell_type": "code",
      "source": [
        "loss_fn = tf.keras.losses.CategoricalCrossentropy()\n",
        "optimizer = tf.keras.optimizers.RMSprop()\n",
        "metrics = tf.keras.metrics.CategoricalAccuracy()\n",
        "\n",
        "model.compile(optimizer=optimizer, loss=loss_fn, metrics=[metrics])"
      ],
      "metadata": {
        "id": "DUwx1-705Txo"
      },
      "execution_count": 79,
      "outputs": []
    },
    {
      "cell_type": "code",
      "source": [
        "history = model.fit(X, y, epochs=300, verbose=0)"
      ],
      "metadata": {
        "id": "2byQN_yl5u3H"
      },
      "execution_count": 106,
      "outputs": []
    },
    {
      "cell_type": "code",
      "source": [
        "\n",
        "plt.plot(history.epoch, history.history['categorical_accuracy'])"
      ],
      "metadata": {
        "colab": {
          "base_uri": "https://localhost:8080/",
          "height": 283
        },
        "id": "tua9qo1657uY",
        "outputId": "a6958426-7570-4f14-d6cf-21d1c2919905"
      },
      "execution_count": 107,
      "outputs": [
        {
          "output_type": "execute_result",
          "data": {
            "text/plain": [
              "[<matplotlib.lines.Line2D at 0x7f55e7344310>]"
            ]
          },
          "metadata": {},
          "execution_count": 107
        },
        {
          "output_type": "display_data",
          "data": {
            "text/plain": [
              "<Figure size 432x288 with 1 Axes>"
            ],
            "image/png": "[encoded data removed]"
          },
          "metadata": {
            "needs_background": "light"
          }
        }
      ]
    },
    {
      "cell_type": "code",
      "source": [
        "def sentence_generator(model, tokenizer, word, num):\n",
        "\n",
        "    current_word = word\n",
        "\n",
        "    for _ in range(num):\n",
        "        encoded = tokenizer.texts_to_sequences([current_word])\n",
        "        encoded = pad_sequences(encoded, maxlen=5)\n",
        "\n",
        "        prediction = model.predict(encoded)\n",
        "        prediction_index = np.argmax(prediction, axis=1).item()\n",
        "\n",
        "        index_word = {index: word for word, index in tokenizer.word_index.items()}\n",
        "        predict_word = index_word[prediction_index]\n",
        "\n",
        "        current_word = current_word + ' ' + predict_word\n",
        "    return current_word"
      ],
      "metadata": {
        "id": "ceH4iVvf7fE7"
      },
      "execution_count": 120,
      "outputs": []
    },
    {
      "cell_type": "code",
      "source": [
        "sentence_generator(model, tokenizer, '경마장에', 4)"
      ],
      "metadata": {
        "colab": {
          "base_uri": "https://localhost:8080/",
          "height": 36
        },
        "id": "bMq3GKr__J-U",
        "outputId": "a584cf1a-3bd7-4a99-b4b3-c7746ed02a34"
      },
      "execution_count": 121,
      "outputs": [
        {
          "output_type": "execute_result",
          "data": {
            "text/plain": [
              "'경마장에 있는 말이 뛰고 있다'"
            ],
            "application/vnd.google.colaboratory.intrinsic+json": {
              "type": "string"
            }
          },
          "metadata": {},
          "execution_count": 121
        }
      ]
    },
    {
      "cell_type": "markdown",
      "source": [
        "## LSTM text generation\n",
        "- https://www.kaggle.com/aashita/nyt-comments"
      ],
      "metadata": {
        "id": "ToB4UdVB_NRc"
      }
    },
    {
      "cell_type": "code",
      "source": [
        "from string import punctuation\n",
        "import matplotlib.pyplot as plt\n",
        "\n",
        "data = pd.read_csv('ArticlesApril2018.csv')\n",
        "data.head(2)"
      ],
      "metadata": {
        "colab": {
          "base_uri": "https://localhost:8080/",
          "height": 367
        },
        "id": "N7lCvEERAOQ1",
        "outputId": "3f9565b9-9ef1-4928-e421-72200c5d8d34"
      },
      "execution_count": 3,
      "outputs": [
        {
          "output_type": "execute_result",
          "data": {
            "text/plain": [
              "                  articleID  articleWordCount            byline documentType  \\\n",
              "0  5adf6684068401528a2aa69b               781    By JOHN BRANCH      article   \n",
              "1  5adf653f068401528a2aa697               656  By LISA FRIEDMAN      article   \n",
              "\n",
              "                                            headline  \\\n",
              "0  Former N.F.L. Cheerleaders’ Settlement Offer: ...   \n",
              "1  E.P.A. to Unveil a New Rule. Its Effect: Less ...   \n",
              "\n",
              "                                            keywords  multimedia  newDesk  \\\n",
              "0  ['Workplace Hazards and Violations', 'Football...          68   Sports   \n",
              "1  ['Environmental Protection Agency', 'Pruitt, S...          68  Climate   \n",
              "\n",
              "   printPage              pubDate   sectionName  \\\n",
              "0          0  2018-04-24 17:16:49  Pro Football   \n",
              "1          0  2018-04-24 17:11:21       Unknown   \n",
              "\n",
              "                                             snippet              source  \\\n",
              "0  “I understand that they could meet with us, pa...  The New York Times   \n",
              "1  The agency plans to publish a new regulation T...  The New York Times   \n",
              "\n",
              "  typeOfMaterial                                             webURL  \n",
              "0           News  https://www.nytimes.com/2018/04/24/sports/foot...  \n",
              "1           News  https://www.nytimes.com/2018/04/24/climate/epa...  "
            ],
            "text/html": [
              "\n",
              "  <div id=\"df-d11fe581-80dd-4ab4-9324-49f0c45cef76\">\n",
              "    <div class=\"colab-df-container\">\n",
              "      <div>\n",
              "<style scoped>\n",
              "    .dataframe tbody tr th:only-of-type {\n",
              "        vertical-align: middle;\n",
              "    }\n",
              "\n",
              "    .dataframe tbody tr th {\n",
              "        vertical-align: top;\n",
              "    }\n",
              "\n",
              "    .dataframe thead th {\n",
              "        text-align: right;\n",
              "    }\n",
              "</style>\n",
              "<table border=\"1\" class=\"dataframe\">\n",
              "  <thead>\n",
              "    <tr style=\"text-align: right;\">\n",
              "      <th></th>\n",
              "      <th>articleID</th>\n",
              "      <th>articleWordCount</th>\n",
              "      <th>byline</th>\n",
              "      <th>documentType</th>\n",
              "      <th>headline</th>\n",
              "      <th>keywords</th>\n",
              "      <th>multimedia</th>\n",
              "      <th>newDesk</th>\n",
              "      <th>printPage</th>\n",
              "      <th>pubDate</th>\n",
              "      <th>sectionName</th>\n",
              "      <th>snippet</th>\n",
              "      <th>source</th>\n",
              "      <th>typeOfMaterial</th>\n",
              "      <th>webURL</th>\n",
              "    </tr>\n",
              "  </thead>\n",
              "  <tbody>\n",
              "    <tr>\n",
              "      <th>0</th>\n",
              "      <td>5adf6684068401528a2aa69b</td>\n",
              "      <td>781</td>\n",
              "      <td>By JOHN BRANCH</td>\n",
              "      <td>article</td>\n",
              "      <td>Former N.F.L. Cheerleaders’ Settlement Offer: ...</td>\n",
              "      <td>['Workplace Hazards and Violations', 'Football...</td>\n",
              "      <td>68</td>\n",
              "      <td>Sports</td>\n",
              "      <td>0</td>\n",
              "      <td>2018-04-24 17:16:49</td>\n",
              "      <td>Pro Football</td>\n",
              "      <td>“I understand that they could meet with us, pa...</td>\n",
              "      <td>The New York Times</td>\n",
              "      <td>News</td>\n",
              "      <td>https://www.nytimes.com/2018/04/24/sports/foot...</td>\n",
              "    </tr>\n",
              "    <tr>\n",
              "      <th>1</th>\n",
              "      <td>5adf653f068401528a2aa697</td>\n",
              "      <td>656</td>\n",
              "      <td>By LISA FRIEDMAN</td>\n",
              "      <td>article</td>\n",
              "      <td>E.P.A. to Unveil a New Rule. Its Effect: Less ...</td>\n",
              "      <td>['Environmental Protection Agency', 'Pruitt, S...</td>\n",
              "      <td>68</td>\n",
              "      <td>Climate</td>\n",
              "      <td>0</td>\n",
              "      <td>2018-04-24 17:11:21</td>\n",
              "      <td>Unknown</td>\n",
              "      <td>The agency plans to publish a new regulation T...</td>\n",
              "      <td>The New York Times</td>\n",
              "      <td>News</td>\n",
              "      <td>https://www.nytimes.com/2018/04/24/climate/epa...</td>\n",
              "    </tr>\n",
              "  </tbody>\n",
              "</table>\n",
              "</div>\n",
              "      <button class=\"colab-df-convert\" onclick=\"convertToInteractive('df-d11fe581-80dd-4ab4-9324-49f0c45cef76')\"\n",
              "              title=\"Convert this dataframe to an interactive table.\"\n",
              "              style=\"display:none;\">\n",
              "        \n",
              "  <svg xmlns=\"http://www.w3.org/2000/svg\" height=\"24px\"viewBox=\"0 0 24 24\"\n",
              "       width=\"24px\">\n",
              "    <path d=\"M0 0h24v24H0V0z\" fill=\"none\"/>\n",
              "    <path d=\"M18.56 5.44l.94 2.06.94-2.06 2.06-.94-2.06-.94-.94-2.06-.94 2.06-2.06.94zm-11 1L8.5 8.5l.94-2.06 2.06-.94-2.06-.94L8.5 2.5l-.94 2.06-2.06.94zm10 10l.94 2.06.94-2.06 2.06-.94-2.06-.94-.94-2.06-.94 2.06-2.06.94z\"/><path d=\"M17.41 7.96l-1.37-1.37c-.4-.4-.92-.59-1.43-.59-.52 0-1.04.2-1.43.59L10.3 9.45l-7.72 7.72c-.78.78-.78 2.05 0 2.83L4 21.41c.39.39.9.59 1.41.59.51 0 1.02-.2 1.41-.59l7.78-7.78 2.81-2.81c.8-.78.8-2.07 0-2.86zM5.41 20L4 18.59l7.72-7.72 1.47 1.35L5.41 20z\"/>\n",
              "  </svg>\n",
              "      </button>\n",
              "      \n",
              "  <style>\n",
              "    .colab-df-container {\n",
              "      display:flex;\n",
              "      flex-wrap:wrap;\n",
              "      gap: 12px;\n",
              "    }\n",
              "\n",
              "    .colab-df-convert {\n",
              "      background-color: #E8F0FE;\n",
              "      border: none;\n",
              "      border-radius: 50%;\n",
              "      cursor: pointer;\n",
              "      display: none;\n",
              "      fill: #1967D2;\n",
              "      height: 32px;\n",
              "      padding: 0 0 0 0;\n",
              "      width: 32px;\n",
              "    }\n",
              "\n",
              "    .colab-df-convert:hover {\n",
              "      background-color: #E2EBFA;\n",
              "      box-shadow: 0px 1px 2px rgba(60, 64, 67, 0.3), 0px 1px 3px 1px rgba(60, 64, 67, 0.15);\n",
              "      fill: #174EA6;\n",
              "    }\n",
              "\n",
              "    [theme=dark] .colab-df-convert {\n",
              "      background-color: #3B4455;\n",
              "      fill: #D2E3FC;\n",
              "    }\n",
              "\n",
              "    [theme=dark] .colab-df-convert:hover {\n",
              "      background-color: #434B5C;\n",
              "      box-shadow: 0px 1px 3px 1px rgba(0, 0, 0, 0.15);\n",
              "      filter: drop-shadow(0px 1px 2px rgba(0, 0, 0, 0.3));\n",
              "      fill: #FFFFFF;\n",
              "    }\n",
              "  </style>\n",
              "\n",
              "      <script>\n",
              "        const buttonEl =\n",
              "          document.querySelector('#df-d11fe581-80dd-4ab4-9324-49f0c45cef76 button.colab-df-convert');\n",
              "        buttonEl.style.display =\n",
              "          google.colab.kernel.accessAllowed ? 'block' : 'none';\n",
              "\n",
              "        async function convertToInteractive(key) {\n",
              "          const element = document.querySelector('#df-d11fe581-80dd-4ab4-9324-49f0c45cef76');\n",
              "          const dataTable =\n",
              "            await google.colab.kernel.invokeFunction('convertToInteractive',\n",
              "                                                     [key], {});\n",
              "          if (!dataTable) return;\n",
              "\n",
              "          const docLinkHtml = 'Like what you see? Visit the ' +\n",
              "            '<a target=\"_blank\" href=https://colab.research.google.com/notebooks/data_table.ipynb>data table notebook</a>'\n",
              "            + ' to learn more about interactive tables.';\n",
              "          element.innerHTML = '';\n",
              "          dataTable['output_type'] = 'display_data';\n",
              "          await google.colab.output.renderOutput(dataTable, element);\n",
              "          const docLink = document.createElement('div');\n",
              "          docLink.innerHTML = docLinkHtml;\n",
              "          element.appendChild(docLink);\n",
              "        }\n",
              "      </script>\n",
              "    </div>\n",
              "  </div>\n",
              "  "
            ]
          },
          "metadata": {},
          "execution_count": 3
        }
      ]
    },
    {
      "cell_type": "code",
      "source": [
        "head_line = data['headline']\n",
        "head_line"
      ],
      "metadata": {
        "colab": {
          "base_uri": "https://localhost:8080/"
        },
        "id": "G0AoE9sQAuO3",
        "outputId": "ac82f9b2-325e-4af8-f364-ac72573c483d"
      },
      "execution_count": 4,
      "outputs": [
        {
          "output_type": "execute_result",
          "data": {
            "text/plain": [
              "0       Former N.F.L. Cheerleaders’ Settlement Offer: ...\n",
              "1       E.P.A. to Unveil a New Rule. Its Effect: Less ...\n",
              "2                                 The New Noma, Explained\n",
              "3                                                 Unknown\n",
              "4                                                 Unknown\n",
              "                              ...                        \n",
              "1319    This Common Question Reinforces the Gender Pay...\n",
              "1320                                   Anna, Llama and Me\n",
              "1321           Gen. Michael Hayden Has One Regret: Russia\n",
              "1322                         There Is Nothin’ Like a Tune\n",
              "1323                                              Unknown\n",
              "Name: headline, Length: 1324, dtype: object"
            ]
          },
          "metadata": {},
          "execution_count": 4
        }
      ]
    },
    {
      "cell_type": "code",
      "source": [
        "head_line = data[data.headline != 'Unknown']['headline']"
      ],
      "metadata": {
        "id": "PWq_r-75A8Q3"
      },
      "execution_count": 5,
      "outputs": []
    },
    {
      "cell_type": "code",
      "source": [
        "def preprocessing(text):\n",
        "    preproceseed_sentence = text.encode(\"utf8\").decode(\"ascii\",'ignore')\n",
        "    sentence = ''.join([word for word in preproceseed_sentence if word not in punctuation]).lower()\n",
        "    return sentence\n",
        "\n",
        "head_line_list = [preprocessing(text) for text in head_line]"
      ],
      "metadata": {
        "id": "utQdFO1tBCiS"
      },
      "execution_count": 6,
      "outputs": []
    },
    {
      "cell_type": "code",
      "source": [
        "tokenizer = Tokenizer()\n",
        "\n",
        "tokenizer.fit_on_texts(head_line_list)\n",
        "vocab_size = len(tokenizer.word_index) + 1\n",
        "word_index = tokenizer.word_index\n",
        "index_word = {index: word for word, index in word_index.items()}"
      ],
      "metadata": {
        "id": "gIGqsgLcCxKP"
      },
      "execution_count": 7,
      "outputs": []
    },
    {
      "cell_type": "code",
      "source": [
        "encoded = tokenizer.texts_to_sequences(head_line_list)\n",
        "len(encoded)"
      ],
      "metadata": {
        "colab": {
          "base_uri": "https://localhost:8080/"
        },
        "id": "G2nk3--uEv2z",
        "outputId": "72e11e0b-5f05-4466-86fd-c7b16db7520a"
      },
      "execution_count": 8,
      "outputs": [
        {
          "output_type": "execute_result",
          "data": {
            "text/plain": [
              "1214"
            ]
          },
          "metadata": {},
          "execution_count": 8
        }
      ]
    },
    {
      "cell_type": "code",
      "source": [
        "sequences = []\n",
        "for line in encoded:\n",
        "    for index in range(1, len(line)):\n",
        "        sequence = line[:index+1]\n",
        "        sequences.append(sequence)\n"
      ],
      "metadata": {
        "id": "LHxVIR02E3uX"
      },
      "execution_count": 9,
      "outputs": []
    },
    {
      "cell_type": "code",
      "source": [
        "pad_encoded = pad_sequences(sequences, maxlen=24, padding='pre')\n",
        "len(pad_encoded)"
      ],
      "metadata": {
        "colab": {
          "base_uri": "https://localhost:8080/"
        },
        "id": "XUR0r2IlFPe_",
        "outputId": "1575b0df-81c6-49b6-9cfd-6f4381e18c92"
      },
      "execution_count": 10,
      "outputs": [
        {
          "output_type": "execute_result",
          "data": {
            "text/plain": [
              "7803"
            ]
          },
          "metadata": {},
          "execution_count": 10
        }
      ]
    },
    {
      "cell_type": "code",
      "source": [
        "X = pad_encoded[:, :-1]\n",
        "y = pad_encoded[:, -1]\n",
        "y = to_categorical(y)"
      ],
      "metadata": {
        "id": "44NYOx03Edr8"
      },
      "execution_count": 11,
      "outputs": []
    },
    {
      "cell_type": "code",
      "source": [
        "embedding_dim = 16\n",
        "hidden_dim = 64\n",
        "\n",
        "class mymodel(tf.keras.Model):\n",
        "\n",
        "    def __init__(self, ):\n",
        "        super(mymodel, self).__init__()\n",
        "\n",
        "        self.embedding = layers.Embedding(vocab_size, embedding_dim)\n",
        "        self.lstm = layers.LSTM(hidden_dim)\n",
        "        self.dropout = layers.Dropout(0.2)\n",
        "        self.dense1 = layers.Dense(64, activation='relu')\n",
        "        self.dense2 = layers.Dense(vocab_size, activation='softmax')\n",
        "\n",
        "    def call(self, x, training=False):\n",
        "        x = self.embedding(x)\n",
        "        x = self.lstm(x)\n",
        "        x = self.dense1(x)\n",
        "        x = self.dropout(x, training=training)\n",
        "        x = self.dense2(x)\n",
        "        return x\n",
        "\n",
        "model = mymodel()"
      ],
      "metadata": {
        "id": "D97BIHU8EeZu"
      },
      "execution_count": 38,
      "outputs": []
    },
    {
      "cell_type": "code",
      "source": [
        "model.build(X.shape)\n",
        "model.summary()"
      ],
      "metadata": {
        "colab": {
          "base_uri": "https://localhost:8080/"
        },
        "id": "kna4kHOwFxUk",
        "outputId": "fd01f306-3012-49e1-94f1-a226ac638c87"
      },
      "execution_count": 39,
      "outputs": [
        {
          "output_type": "stream",
          "name": "stdout",
          "text": [
            "Model: \"mymodel_4\"\n",
            "_________________________________________________________________\n",
            " Layer (type)                Output Shape              Param #   \n",
            "=================================================================\n",
            " embedding_4 (Embedding)     multiple                  55904     \n",
            "                                                                 \n",
            " lstm_4 (LSTM)               multiple                  20736     \n",
            "                                                                 \n",
            " dropout (Dropout)           multiple                  0         \n",
            "                                                                 \n",
            " dense_7 (Dense)             multiple                  4160      \n",
            "                                                                 \n",
            " dense_8 (Dense)             multiple                  227110    \n",
            "                                                                 \n",
            "=================================================================\n",
            "Total params: 307,910\n",
            "Trainable params: 307,910\n",
            "Non-trainable params: 0\n",
            "_________________________________________________________________\n"
          ]
        }
      ]
    },
    {
      "cell_type": "code",
      "source": [
        "loss_fn = tf.keras.losses.CategoricalCrossentropy()\n",
        "optimizer = tf.keras.optimizers.RMSprop(learning_rate=0.01)\n",
        "metrics = tf.keras.metrics.CategoricalAccuracy()\n",
        "\n",
        "model.compile(loss=loss_fn, metrics=[metrics], optimizer=optimizer)"
      ],
      "metadata": {
        "id": "HambgGBBGnH8"
      },
      "execution_count": 45,
      "outputs": []
    },
    {
      "cell_type": "code",
      "source": [
        "history = model.fit(X, y, epochs=100)"
      ],
      "metadata": {
        "colab": {
          "base_uri": "https://localhost:8080/"
        },
        "id": "-e1OjYCJG4Ck",
        "outputId": "14a67951-bcd8-41e1-a583-4e9ff0c2e7f8"
      },
      "execution_count": 46,
      "outputs": [
        {
          "output_type": "stream",
          "name": "stdout",
          "text": [
            "Epoch 1/100\n",
            "244/244 [==============================] - 3s 6ms/step - loss: 6.8754 - categorical_accuracy: 0.0551\n",
            "Epoch 2/100\n",
            "244/244 [==============================] - 2s 6ms/step - loss: 6.9367 - categorical_accuracy: 0.0620\n",
            "Epoch 3/100\n",
            "244/244 [==============================] - 2s 6ms/step - loss: 7.0051 - categorical_accuracy: 0.0669\n",
            "Epoch 4/100\n",
            "244/244 [==============================] - 2s 6ms/step - loss: 7.0485 - categorical_accuracy: 0.0711\n",
            "Epoch 5/100\n",
            "244/244 [==============================] - 2s 6ms/step - loss: 7.0555 - categorical_accuracy: 0.0707\n",
            "Epoch 6/100\n",
            "244/244 [==============================] - 1s 6ms/step - loss: 7.1071 - categorical_accuracy: 0.0770\n",
            "Epoch 7/100\n",
            "244/244 [==============================] - 2s 6ms/step - loss: 7.1137 - categorical_accuracy: 0.0841\n",
            "Epoch 8/100\n",
            "244/244 [==============================] - 2s 6ms/step - loss: 7.0474 - categorical_accuracy: 0.0882\n",
            "Epoch 9/100\n",
            "244/244 [==============================] - 2s 6ms/step - loss: 6.9964 - categorical_accuracy: 0.0928\n",
            "Epoch 10/100\n",
            "244/244 [==============================] - 2s 6ms/step - loss: 6.8566 - categorical_accuracy: 0.0959\n",
            "Epoch 11/100\n",
            "244/244 [==============================] - 1s 6ms/step - loss: 6.7740 - categorical_accuracy: 0.1025\n",
            "Epoch 12/100\n",
            "244/244 [==============================] - 1s 6ms/step - loss: 6.6638 - categorical_accuracy: 0.1094\n",
            "Epoch 13/100\n",
            "244/244 [==============================] - 2s 6ms/step - loss: 6.5525 - categorical_accuracy: 0.1137\n",
            "Epoch 14/100\n",
            "244/244 [==============================] - 2s 6ms/step - loss: 6.3796 - categorical_accuracy: 0.1179\n",
            "Epoch 15/100\n",
            "244/244 [==============================] - 2s 6ms/step - loss: 6.2869 - categorical_accuracy: 0.1210\n",
            "Epoch 16/100\n",
            "244/244 [==============================] - 1s 6ms/step - loss: 6.2969 - categorical_accuracy: 0.1266\n",
            "Epoch 17/100\n",
            "244/244 [==============================] - 2s 6ms/step - loss: 6.2440 - categorical_accuracy: 0.1369\n",
            "Epoch 18/100\n",
            "244/244 [==============================] - 2s 6ms/step - loss: 6.1549 - categorical_accuracy: 0.1406\n",
            "Epoch 19/100\n",
            "244/244 [==============================] - 2s 6ms/step - loss: 6.1623 - categorical_accuracy: 0.1456\n",
            "Epoch 20/100\n",
            "244/244 [==============================] - 2s 6ms/step - loss: 6.0981 - categorical_accuracy: 0.1476\n",
            "Epoch 21/100\n",
            "244/244 [==============================] - 2s 6ms/step - loss: 6.0080 - categorical_accuracy: 0.1543\n",
            "Epoch 22/100\n",
            "244/244 [==============================] - 2s 6ms/step - loss: 5.8799 - categorical_accuracy: 0.1603\n",
            "Epoch 23/100\n",
            "244/244 [==============================] - 2s 6ms/step - loss: 5.8125 - categorical_accuracy: 0.1684\n",
            "Epoch 24/100\n",
            "244/244 [==============================] - 2s 6ms/step - loss: 5.8472 - categorical_accuracy: 0.1740\n",
            "Epoch 25/100\n",
            "244/244 [==============================] - 2s 6ms/step - loss: 5.8331 - categorical_accuracy: 0.1863\n",
            "Epoch 26/100\n",
            "244/244 [==============================] - 2s 6ms/step - loss: 5.8862 - categorical_accuracy: 0.1894\n",
            "Epoch 27/100\n",
            "244/244 [==============================] - 2s 6ms/step - loss: 5.8192 - categorical_accuracy: 0.1940\n",
            "Epoch 28/100\n",
            "244/244 [==============================] - 1s 6ms/step - loss: 5.7465 - categorical_accuracy: 0.2022\n",
            "Epoch 29/100\n",
            "244/244 [==============================] - 2s 6ms/step - loss: 5.6253 - categorical_accuracy: 0.2059\n",
            "Epoch 30/100\n",
            "244/244 [==============================] - 2s 6ms/step - loss: 5.4230 - categorical_accuracy: 0.2134\n",
            "Epoch 31/100\n",
            "244/244 [==============================] - 2s 6ms/step - loss: 5.1526 - categorical_accuracy: 0.2149\n",
            "Epoch 32/100\n",
            "244/244 [==============================] - 1s 6ms/step - loss: 5.0386 - categorical_accuracy: 0.2254\n",
            "Epoch 33/100\n",
            "244/244 [==============================] - 2s 6ms/step - loss: 4.9533 - categorical_accuracy: 0.2307\n",
            "Epoch 34/100\n",
            "244/244 [==============================] - 2s 6ms/step - loss: 4.8519 - categorical_accuracy: 0.2376\n",
            "Epoch 35/100\n",
            "244/244 [==============================] - 2s 6ms/step - loss: 4.7640 - categorical_accuracy: 0.2467\n",
            "Epoch 36/100\n",
            "244/244 [==============================] - 2s 6ms/step - loss: 4.6567 - categorical_accuracy: 0.2509\n",
            "Epoch 37/100\n",
            "244/244 [==============================] - 2s 6ms/step - loss: 4.6162 - categorical_accuracy: 0.2586\n",
            "Epoch 38/100\n",
            "244/244 [==============================] - 2s 6ms/step - loss: 4.4876 - categorical_accuracy: 0.2659\n",
            "Epoch 39/100\n",
            "244/244 [==============================] - 2s 6ms/step - loss: 4.3957 - categorical_accuracy: 0.2786\n",
            "Epoch 40/100\n",
            "244/244 [==============================] - 2s 6ms/step - loss: 4.2983 - categorical_accuracy: 0.2853\n",
            "Epoch 41/100\n",
            "244/244 [==============================] - 2s 6ms/step - loss: 4.2809 - categorical_accuracy: 0.2812\n",
            "Epoch 42/100\n",
            "244/244 [==============================] - 2s 6ms/step - loss: 4.2129 - categorical_accuracy: 0.3001\n",
            "Epoch 43/100\n",
            "244/244 [==============================] - 2s 6ms/step - loss: 4.1964 - categorical_accuracy: 0.3087\n",
            "Epoch 44/100\n",
            "244/244 [==============================] - 2s 6ms/step - loss: 4.1291 - categorical_accuracy: 0.3159\n",
            "Epoch 45/100\n",
            "244/244 [==============================] - 2s 6ms/step - loss: 4.1044 - categorical_accuracy: 0.3182\n",
            "Epoch 46/100\n",
            "244/244 [==============================] - 2s 6ms/step - loss: 4.0734 - categorical_accuracy: 0.3256\n",
            "Epoch 47/100\n",
            "244/244 [==============================] - 2s 6ms/step - loss: 4.0145 - categorical_accuracy: 0.3332\n",
            "Epoch 48/100\n",
            "244/244 [==============================] - 2s 6ms/step - loss: 3.9837 - categorical_accuracy: 0.3326\n",
            "Epoch 49/100\n",
            "244/244 [==============================] - 2s 6ms/step - loss: 3.9414 - categorical_accuracy: 0.3377\n",
            "Epoch 50/100\n",
            "244/244 [==============================] - 2s 9ms/step - loss: 3.8155 - categorical_accuracy: 0.3390\n",
            "Epoch 51/100\n",
            "244/244 [==============================] - 2s 8ms/step - loss: 3.7545 - categorical_accuracy: 0.3487\n",
            "Epoch 52/100\n",
            "244/244 [==============================] - 2s 6ms/step - loss: 3.6970 - categorical_accuracy: 0.3502\n",
            "Epoch 53/100\n",
            "244/244 [==============================] - 2s 6ms/step - loss: 3.6397 - categorical_accuracy: 0.3558\n",
            "Epoch 54/100\n",
            "244/244 [==============================] - 2s 6ms/step - loss: 3.5593 - categorical_accuracy: 0.3658\n",
            "Epoch 55/100\n",
            "244/244 [==============================] - 2s 6ms/step - loss: 3.5332 - categorical_accuracy: 0.3686\n",
            "Epoch 56/100\n",
            "244/244 [==============================] - 2s 8ms/step - loss: 3.4633 - categorical_accuracy: 0.3733\n",
            "Epoch 57/100\n",
            "244/244 [==============================] - 3s 10ms/step - loss: 3.4079 - categorical_accuracy: 0.3751\n",
            "Epoch 58/100\n",
            "244/244 [==============================] - 2s 9ms/step - loss: 3.3513 - categorical_accuracy: 0.3832\n",
            "Epoch 59/100\n",
            "244/244 [==============================] - 2s 6ms/step - loss: 3.3624 - categorical_accuracy: 0.3850\n",
            "Epoch 60/100\n",
            "244/244 [==============================] - 2s 6ms/step - loss: 3.3474 - categorical_accuracy: 0.3923\n",
            "Epoch 61/100\n",
            "244/244 [==============================] - 2s 6ms/step - loss: 3.3462 - categorical_accuracy: 0.3918\n",
            "Epoch 62/100\n",
            "244/244 [==============================] - 2s 6ms/step - loss: 3.2556 - categorical_accuracy: 0.4022\n",
            "Epoch 63/100\n",
            "244/244 [==============================] - 2s 6ms/step - loss: 3.2697 - categorical_accuracy: 0.4020\n",
            "Epoch 64/100\n",
            "244/244 [==============================] - 2s 6ms/step - loss: 3.2045 - categorical_accuracy: 0.3974\n",
            "Epoch 65/100\n",
            "244/244 [==============================] - 2s 6ms/step - loss: 3.0745 - categorical_accuracy: 0.4159\n",
            "Epoch 66/100\n",
            "244/244 [==============================] - 2s 6ms/step - loss: 3.0972 - categorical_accuracy: 0.4102\n",
            "Epoch 67/100\n",
            "244/244 [==============================] - 2s 6ms/step - loss: 3.0944 - categorical_accuracy: 0.4095\n",
            "Epoch 68/100\n",
            "244/244 [==============================] - 2s 6ms/step - loss: 3.0602 - categorical_accuracy: 0.4198\n",
            "Epoch 69/100\n",
            "244/244 [==============================] - 2s 6ms/step - loss: 3.0903 - categorical_accuracy: 0.4163\n",
            "Epoch 70/100\n",
            "244/244 [==============================] - 2s 6ms/step - loss: 3.0848 - categorical_accuracy: 0.4220\n",
            "Epoch 71/100\n",
            "244/244 [==============================] - 2s 6ms/step - loss: 3.0591 - categorical_accuracy: 0.4346\n",
            "Epoch 72/100\n",
            "244/244 [==============================] - 2s 6ms/step - loss: 3.0544 - categorical_accuracy: 0.4323\n",
            "Epoch 73/100\n",
            "244/244 [==============================] - 2s 6ms/step - loss: 3.0538 - categorical_accuracy: 0.4259\n",
            "Epoch 74/100\n",
            "244/244 [==============================] - 1s 6ms/step - loss: 3.0644 - categorical_accuracy: 0.4284\n",
            "Epoch 75/100\n",
            "244/244 [==============================] - 2s 6ms/step - loss: 2.9769 - categorical_accuracy: 0.4457\n",
            "Epoch 76/100\n",
            "244/244 [==============================] - 2s 6ms/step - loss: 2.9579 - categorical_accuracy: 0.4462\n",
            "Epoch 77/100\n",
            "244/244 [==============================] - 2s 6ms/step - loss: 2.9135 - categorical_accuracy: 0.4455\n",
            "Epoch 78/100\n",
            "244/244 [==============================] - 2s 6ms/step - loss: 2.9510 - categorical_accuracy: 0.4460\n",
            "Epoch 79/100\n",
            "244/244 [==============================] - 2s 6ms/step - loss: 2.8230 - categorical_accuracy: 0.4653\n",
            "Epoch 80/100\n",
            "244/244 [==============================] - 2s 6ms/step - loss: 2.8510 - categorical_accuracy: 0.4588\n",
            "Epoch 81/100\n",
            "244/244 [==============================] - 2s 6ms/step - loss: 2.8768 - categorical_accuracy: 0.4591\n",
            "Epoch 82/100\n",
            "244/244 [==============================] - 2s 6ms/step - loss: 2.8214 - categorical_accuracy: 0.4628\n",
            "Epoch 83/100\n",
            "244/244 [==============================] - 2s 6ms/step - loss: 2.8086 - categorical_accuracy: 0.4717\n",
            "Epoch 84/100\n",
            "244/244 [==============================] - 2s 6ms/step - loss: 2.8365 - categorical_accuracy: 0.4699\n",
            "Epoch 85/100\n",
            "244/244 [==============================] - 2s 6ms/step - loss: 2.8034 - categorical_accuracy: 0.4706\n",
            "Epoch 86/100\n",
            "244/244 [==============================] - 2s 6ms/step - loss: 2.7649 - categorical_accuracy: 0.4662\n",
            "Epoch 87/100\n",
            "244/244 [==============================] - 2s 6ms/step - loss: 2.7740 - categorical_accuracy: 0.4685\n",
            "Epoch 88/100\n",
            "244/244 [==============================] - 2s 6ms/step - loss: 2.6734 - categorical_accuracy: 0.4911\n",
            "Epoch 89/100\n",
            "244/244 [==============================] - 2s 6ms/step - loss: 2.7217 - categorical_accuracy: 0.4819\n",
            "Epoch 90/100\n",
            "244/244 [==============================] - 2s 6ms/step - loss: 2.5937 - categorical_accuracy: 0.4938\n",
            "Epoch 91/100\n",
            "244/244 [==============================] - 2s 6ms/step - loss: 2.6577 - categorical_accuracy: 0.4894\n",
            "Epoch 92/100\n",
            "244/244 [==============================] - 2s 6ms/step - loss: 2.6143 - categorical_accuracy: 0.4805\n",
            "Epoch 93/100\n",
            "244/244 [==============================] - 2s 6ms/step - loss: 2.5820 - categorical_accuracy: 0.4981\n",
            "Epoch 94/100\n",
            "244/244 [==============================] - 2s 7ms/step - loss: 2.5619 - categorical_accuracy: 0.4975\n",
            "Epoch 95/100\n",
            "244/244 [==============================] - 2s 6ms/step - loss: 2.5469 - categorical_accuracy: 0.4953\n",
            "Epoch 96/100\n",
            "244/244 [==============================] - 2s 6ms/step - loss: 2.5632 - categorical_accuracy: 0.5048\n",
            "Epoch 97/100\n",
            "244/244 [==============================] - 2s 6ms/step - loss: 2.5191 - categorical_accuracy: 0.5022\n",
            "Epoch 98/100\n",
            "244/244 [==============================] - 2s 7ms/step - loss: 2.5181 - categorical_accuracy: 0.5048\n",
            "Epoch 99/100\n",
            "244/244 [==============================] - 2s 7ms/step - loss: 2.5336 - categorical_accuracy: 0.4997\n",
            "Epoch 100/100\n",
            "244/244 [==============================] - 2s 6ms/step - loss: 2.5053 - categorical_accuracy: 0.5006\n"
          ]
        }
      ]
    },
    {
      "cell_type": "code",
      "source": [
        "plt.plot(history.epoch, history.history['categorical_accuracy'])"
      ],
      "metadata": {
        "colab": {
          "base_uri": "https://localhost:8080/",
          "height": 283
        },
        "id": "BwixCRv7G8Yz",
        "outputId": "14059034-cba7-464a-ea18-5ec6e28f3684"
      },
      "execution_count": 47,
      "outputs": [
        {
          "output_type": "execute_result",
          "data": {
            "text/plain": [
              "[<matplotlib.lines.Line2D at 0x7fbb154c86d0>]"
            ]
          },
          "metadata": {},
          "execution_count": 47
        },
        {
          "output_type": "display_data",
          "data": {
            "text/plain": [
              "<Figure size 432x288 with 1 Axes>"
            ],
            "image/png": "[encoded data removed]"
          },
          "metadata": {
            "needs_background": "light"
          }
        }
      ]
    },
    {
      "cell_type": "code",
      "source": [
        "def sentence_generator2(model, tokenizer, word, num):\n",
        "\n",
        "    current_word = word\n",
        "\n",
        "    for _ in range(num):\n",
        "        encoded = tokenizer.texts_to_sequences([current_word])\n",
        "        encoded = pad_sequences(encoded, maxlen=23, padding='pre')\n",
        "\n",
        "        prediction = model.predict(encoded)\n",
        "        prediction_index = np.argmax(prediction, axis=1).item()\n",
        "\n",
        "        predicted_word = index_word[prediction_index]\n",
        "        current_word = current_word + ' ' + predicted_word\n",
        "    return current_word\n",
        "\n",
        "sentence_generator2(model, tokenizer, 'how to', 10)"
      ],
      "metadata": {
        "colab": {
          "base_uri": "https://localhost:8080/",
          "height": 36
        },
        "id": "NR8-YWfGIh4r",
        "outputId": "5846e0fb-3ec0-4c55-bd3a-ce5661603490"
      },
      "execution_count": 54,
      "outputs": [
        {
          "output_type": "execute_result",
          "data": {
            "text/plain": [
              "'how to make a genius who tells crisis threatens epa back has'"
            ],
            "application/vnd.google.colaboratory.intrinsic+json": {
              "type": "string"
            }
          },
          "metadata": {},
          "execution_count": 54
        }
      ]
    },
    {
      "cell_type": "code",
      "source": [],
      "metadata": {
        "id": "BembmMp5Jqbb"
      },
      "execution_count": null,
      "outputs": []
    }
  ]
}